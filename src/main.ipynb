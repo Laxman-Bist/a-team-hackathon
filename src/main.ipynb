{
 "cells": [
  {
   "cell_type": "code",
   "execution_count": null,
   "metadata": {},
   "outputs": [
    {
     "name": "stdout",
     "output_type": "stream",
     "text": [
      "Monitoring applications: ['notepad.exe', 'chrome.exe', 'code.exe']\n",
      "Monitoring text input... Press 'Esc' to exit.\n",
      "Paste detected in: code.exe\n",
      "Paste detected in: code.exe\n",
      "Paste detected in: code.exe\n",
      "Removing: '8888464964' from text\n",
      "Updated text: 'this is my email '\n",
      "Paste detected in: code.exe\n"
     ]
    }
   ],
   "source": [
    "from utils.keyboard_listener import start_keyboard_listener\n",
    "\n",
    "if __name__ == \"__main__\":\n",
    "    start_keyboard_listener()"
   ]
  }
 ],
 "metadata": {
  "kernelspec": {
   "display_name": "Python 3",
   "language": "python",
   "name": "python3"
  },
  "language_info": {
   "codemirror_mode": {
    "name": "ipython",
    "version": 3
   },
   "file_extension": ".py",
   "mimetype": "text/x-python",
   "name": "python",
   "nbconvert_exporter": "python",
   "pygments_lexer": "ipython3",
   "version": "3.13.2"
  }
 },
 "nbformat": 4,
 "nbformat_minor": 2
}
